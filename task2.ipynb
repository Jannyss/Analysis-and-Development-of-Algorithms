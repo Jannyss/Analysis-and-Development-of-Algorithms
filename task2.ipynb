{
 "cells": [
  {
   "cell_type": "code",
   "execution_count": 115,
   "metadata": {},
   "outputs": [],
   "source": [
    "import time\n",
    "import numpy as np\n",
    "import datetime\n",
    "import random\n",
    "import matplotlib.pyplot as plt\n",
    "import statistics\n",
    "from scipy.optimize import *"
   ]
  },
  {
   "cell_type": "code",
   "execution_count": 58,
   "metadata": {},
   "outputs": [],
   "source": [
    "global eps\n",
    "eps = 0.001"
   ]
  },
  {
   "cell_type": "markdown",
   "metadata": {},
   "source": [
    "# Task 1"
   ]
  },
  {
   "cell_type": "code",
   "execution_count": 429,
   "metadata": {},
   "outputs": [],
   "source": [
    "# ((b - a) / eps) iterations and f-calculations (1000, 1000, 990)\n",
    "# The implementation of exhaustive search\n",
    "def exhaustive_search(function, a, b):\n",
    "    i = 1\n",
    "    # Calculate the number of iterationsd\n",
    "    n = (b - a) / eps\n",
    "    k = 0\n",
    "    x = a + k * ((b - a) / n)\n",
    "    f = function(x)\n",
    "    minimum = f\n",
    "    xm = x\n",
    "    print(i, xm, minimum)\n",
    "    # Iterate through the possible options\n",
    "    for k in np.arange(1,n):\n",
    "        x = a + k * ((b - a) / n)\n",
    "        f = function(x)\n",
    "        \n",
    "        # Detect the minimum\n",
    "        if f < minimum:\n",
    "            minimum = f\n",
    "            xm = x\n",
    "        i += 1\n",
    "    return xm, i"
   ]
  },
  {
   "cell_type": "code",
   "execution_count": 430,
   "metadata": {
    "scrolled": true
   },
   "outputs": [
    {
     "name": "stdout",
     "output_type": "stream",
     "text": [
      "1 0.0 0.0\n"
     ]
    },
    {
     "data": {
      "text/plain": [
       "(0.0, 1000)"
      ]
     },
     "execution_count": 430,
     "metadata": {},
     "output_type": "execute_result"
    }
   ],
   "source": [
    "exhaustive_search(cubic_func, 0, 1)"
   ]
  },
  {
   "cell_type": "code",
   "execution_count": 431,
   "metadata": {
    "scrolled": true
   },
   "outputs": [
    {
     "name": "stdout",
     "output_type": "stream",
     "text": [
      "1 0.0 0.2\n"
     ]
    },
    {
     "data": {
      "text/plain": [
       "(0.2, 1000)"
      ]
     },
     "execution_count": 431,
     "metadata": {},
     "output_type": "execute_result"
    }
   ],
   "source": [
    "exhaustive_search(abs_func, 0, 1)"
   ]
  },
  {
   "cell_type": "code",
   "execution_count": 432,
   "metadata": {},
   "outputs": [
    {
     "name": "stdout",
     "output_type": "stream",
     "text": [
      "1 0.01 -0.005063656411097588\n"
     ]
    },
    {
     "data": {
      "text/plain": [
       "(0.223, 990)"
      ]
     },
     "execution_count": 432,
     "metadata": {},
     "output_type": "execute_result"
    }
   ],
   "source": [
    "exhaustive_search(sin_func, 0.01, 1)"
   ]
  },
  {
   "cell_type": "code",
   "execution_count": 5,
   "metadata": {},
   "outputs": [],
   "source": [
    "# 11 iteraions ; 2 + 22 = 24 f-calculations\n",
    "# The implementation of Dichotomy search\n",
    "def dichotomy_search(function, a, b, sigma=eps/2):\n",
    "    x1 = (a + b - sigma)/2\n",
    "    x2 = (a + b + sigma)/2\n",
    "    i = 0\n",
    "    while abs(a - b) >= eps:\n",
    "        i += 1\n",
    "        # Compare two f(x) and move the boarders\n",
    "        if function(x1) <= function(x2):\n",
    "            b = x2\n",
    "        else:\n",
    "            a = x1\n",
    "        # Calculate the new points\n",
    "        x1 = (a + b - sigma)/2\n",
    "        x2 = (a + b + sigma)/2\n",
    "        print(i, a, b)\n",
    "    return a if function(a) < function(b) else b"
   ]
  },
  {
   "cell_type": "code",
   "execution_count": 6,
   "metadata": {},
   "outputs": [],
   "source": [
    "# 15 iterations ; 2 + 2 + 15 = 19 f-calculations\n",
    "# The implementation of Golden Section search\n",
    "def golden_section_search(function, a, b):\n",
    "    # At the first step calculate two points\n",
    "    x1 = a + ((3 - pow(5, 0.5)) / 2) * (b - a)\n",
    "    f1 = function(x1)\n",
    "    x2 = b + ((-3 + pow(5, 0.5)) / 2) * (b - a)\n",
    "    f2 = function(x2)\n",
    "    i = 0\n",
    "    while abs(a - b) >= eps:\n",
    "        i += 1\n",
    "        # In order to f(x) calculate only one point\n",
    "        if f1 <= f2:\n",
    "            b, x2 = x2, x1\n",
    "            x1 = a + ((3 - pow(5, 0.5)) / 2) * (b - a)\n",
    "            f2 = f1\n",
    "            f1 = function(x1)\n",
    "        else:\n",
    "            a, x1 = x1, x2\n",
    "            x2 = b + ((-3 + pow(5, 0.5)) / 2) * (b - a)\n",
    "            f1 = f2\n",
    "            f2 = function(x2)\n",
    "        print(i, a, b)\n",
    "    return a if function(a) < function(b) else b"
   ]
  },
  {
   "cell_type": "code",
   "execution_count": 7,
   "metadata": {},
   "outputs": [],
   "source": [
    "# The inplementation of functions from the task\n",
    "def cubic_func(x):\n",
    "    return pow(x, 3)"
   ]
  },
  {
   "cell_type": "code",
   "execution_count": 8,
   "metadata": {},
   "outputs": [],
   "source": [
    "def abs_func(x):\n",
    "    return abs(x - 0.2)"
   ]
  },
  {
   "cell_type": "code",
   "execution_count": 9,
   "metadata": {},
   "outputs": [],
   "source": [
    "def sin_func(x):\n",
    "    return x * np.sin(1/x)"
   ]
  },
  {
   "cell_type": "code",
   "execution_count": 134,
   "metadata": {},
   "outputs": [
    {
     "name": "stdout",
     "output_type": "stream",
     "text": [
      "1 0 0.6180339887498949\n",
      "2 0 0.3819660112501051\n",
      "3 0 0.2360679774997897\n",
      "4 0 0.1458980337503154\n",
      "5 0 0.09016994374947422\n",
      "6 0 0.05572809000084119\n",
      "7 0 0.03444185374863301\n",
      "8 0 0.021286236252208175\n",
      "9 0 0.013155617496424831\n",
      "10 0 0.008130618755783343\n",
      "11 0 0.005024998740641487\n",
      "12 0 0.003105620015141856\n",
      "13 0 0.00191937872549963\n",
      "14 0 0.0011862412896422258\n",
      "15 0 0.000733137435857404\n"
     ]
    },
    {
     "data": {
      "text/plain": [
       "0"
      ]
     },
     "execution_count": 134,
     "metadata": {},
     "output_type": "execute_result"
    }
   ],
   "source": [
    "golden_section_search(cubic_func, 0, 1)"
   ]
  },
  {
   "cell_type": "code",
   "execution_count": 133,
   "metadata": {},
   "outputs": [
    {
     "name": "stdout",
     "output_type": "stream",
     "text": [
      "1 0 0.6180339887498949\n",
      "2 0 0.3819660112501051\n",
      "3 0.1458980337503154 0.3819660112501051\n",
      "4 0.1458980337503154 0.29179606750063086\n",
      "5 0.1458980337503154 0.2360679774997897\n",
      "6 0.18033988749894844 0.2360679774997897\n",
      "7 0.18033988749894844 0.21478174124758148\n",
      "8 0.1934955049953733 0.21478174124758148\n",
      "9 0.1934955049953733 0.20665112249179812\n",
      "10 0.1934955049953733 0.20162612375115663\n",
      "11 0.19660112501051516 0.20162612375115663\n",
      "12 0.1985205037360148 0.20162612375115663\n",
      "13 0.1985205037360148 0.2004398824615144\n",
      "14 0.1992536411718722 0.2004398824615144\n",
      "15 0.199706745025657 0.2004398824615144\n"
     ]
    },
    {
     "data": {
      "text/plain": [
       "0.199706745025657"
      ]
     },
     "execution_count": 133,
     "metadata": {},
     "output_type": "execute_result"
    }
   ],
   "source": [
    "golden_section_search(abs_func, 0, 1)"
   ]
  },
  {
   "cell_type": "code",
   "execution_count": 135,
   "metadata": {},
   "outputs": [
    {
     "name": "stdout",
     "output_type": "stream",
     "text": [
      "1 0.01 0.621853648862396\n",
      "2 0.01 0.38814635113760404\n",
      "3 0.15443905341281225 0.38814635113760404\n",
      "4 0.15443905341281225 0.29887810682562455\n",
      "5 0.15443905341281225 0.24370729772479183\n",
      "6 0.18853648862395897 0.24370729772479183\n",
      "7 0.20960986251364505 0.24370729772479183\n",
      "8 0.20960986251364505 0.23068323640333122\n",
      "9 0.21765917508187058 0.23068323640333122\n",
      "10 0.21765917508187058 0.22570848765009613\n",
      "11 0.22073373889686104 0.22570848765009613\n",
      "12 0.22073373889686104 0.22380830271185148\n",
      "13 0.22190811777360683 0.22380830271185148\n",
      "14 0.22190811777360683 0.22308249665035265\n",
      "15 0.22235669058885382 0.22308249665035265\n"
     ]
    },
    {
     "data": {
      "text/plain": [
       "0.22235669058885382"
      ]
     },
     "execution_count": 135,
     "metadata": {},
     "output_type": "execute_result"
    }
   ],
   "source": [
    "golden_section_search(sin_func, 0.01, 1)"
   ]
  },
  {
   "cell_type": "code",
   "execution_count": 88,
   "metadata": {},
   "outputs": [
    {
     "name": "stdout",
     "output_type": "stream",
     "text": [
      "1 0 0.50025\n",
      "2 0 0.25037499999999996\n",
      "3 0 0.12543749999999998\n",
      "4 0 0.06296874999999999\n",
      "5 0 0.031734374999999995\n",
      "6 0 0.016117187499999998\n",
      "7 0 0.00830859375\n",
      "8 0 0.004404296875\n",
      "9 0 0.0024521484375\n",
      "10 0 0.00147607421875\n",
      "11 0 0.0009880371093750001\n"
     ]
    },
    {
     "data": {
      "text/plain": [
       "0"
      ]
     },
     "execution_count": 88,
     "metadata": {},
     "output_type": "execute_result"
    }
   ],
   "source": [
    "dichotomy_search(cubic_func, 0, 1)"
   ]
  },
  {
   "cell_type": "code",
   "execution_count": 89,
   "metadata": {},
   "outputs": [
    {
     "name": "stdout",
     "output_type": "stream",
     "text": [
      "1 0 0.50025\n",
      "2 0 0.25037499999999996\n",
      "3 0.12493749999999998 0.25037499999999996\n",
      "4 0.18740624999999997 0.25037499999999996\n",
      "5 0.18740624999999997 0.21914062499999995\n",
      "6 0.18740624999999997 0.20352343749999996\n",
      "7 0.19521484374999995 0.20352343749999996\n",
      "8 0.19911914062499994 0.20352343749999996\n",
      "9 0.19911914062499994 0.20157128906249996\n",
      "10 0.19911914062499994 0.20059521484374995\n",
      "11 0.19960717773437495 0.20059521484374995\n"
     ]
    },
    {
     "data": {
      "text/plain": [
       "0.19960717773437495"
      ]
     },
     "execution_count": 89,
     "metadata": {},
     "output_type": "execute_result"
    }
   ],
   "source": [
    "dichotomy_search(abs_func, 0, 1)"
   ]
  },
  {
   "cell_type": "code",
   "execution_count": 90,
   "metadata": {},
   "outputs": [
    {
     "name": "stdout",
     "output_type": "stream",
     "text": [
      "1 0.01 0.50525\n",
      "2 0.01 0.25787499999999997\n",
      "3 0.1336875 0.25787499999999997\n",
      "4 0.19553124999999996 0.25787499999999997\n",
      "5 0.19553124999999996 0.22695312499999995\n",
      "6 0.21099218749999996 0.22695312499999995\n",
      "7 0.21872265624999995 0.22695312499999995\n",
      "8 0.21872265624999995 0.22308789062499995\n",
      "9 0.22065527343749994 0.22308789062499995\n",
      "10 0.22162158203124996 0.22308789062499995\n",
      "11 0.22210473632812497 0.22308789062499995\n"
     ]
    },
    {
     "data": {
      "text/plain": [
       "0.22210473632812497"
      ]
     },
     "execution_count": 90,
     "metadata": {},
     "output_type": "execute_result"
    }
   ],
   "source": [
    "dichotomy_search(sin_func, 0.01, 1)"
   ]
  },
  {
   "cell_type": "code",
   "execution_count": 86,
   "metadata": {},
   "outputs": [
    {
     "data": {
      "text/plain": [
       "[<matplotlib.lines.Line2D at 0x11d0f0290>]"
      ]
     },
     "execution_count": 86,
     "metadata": {},
     "output_type": "execute_result"
    },
    {
     "data": {
      "image/png": "[encoded data removed]",
      "text/plain": [
       "<Figure size 432x288 with 1 Axes>"
      ]
     },
     "metadata": {
      "needs_background": "light"
     },
     "output_type": "display_data"
    }
   ],
   "source": [
    "# Plot for x*sin(1/x) function to show the minimum point\n",
    "X = np.arange(0.01,1,0.01)\n",
    "plt.plot(X, sin_func(X))"
   ]
  },
  {
   "cell_type": "markdown",
   "metadata": {},
   "source": [
    "# Task 2"
   ]
  },
  {
   "cell_type": "code",
   "execution_count": 67,
   "metadata": {},
   "outputs": [],
   "source": [
    "# Generate alpha and beta numbers in range (0,1)\n",
    "alpha = random.uniform(0.0000000000000000001,0.9999999999999999999)\n",
    "beta = random.uniform(0.0000000000000000001,0.9999999999999999999)"
   ]
  },
  {
   "cell_type": "code",
   "execution_count": 187,
   "metadata": {},
   "outputs": [],
   "source": [
    "# The function ot generate our data to approximate (X, Y) with some noize \n",
    "def generate_data(k, alpha, beta):\n",
    "    X = [x/100 for x in range(0,k)]\n",
    "    noizes = np.random.normal(0,1,100)\n",
    "    Y = [alpha * x + beta + noize for x, noise in zip(X, noizes)]\n",
    "    return X, Y"
   ]
  },
  {
   "cell_type": "code",
   "execution_count": 188,
   "metadata": {},
   "outputs": [],
   "source": [
    "# Linear function for approximation\n",
    "def linear(x, a, b):\n",
    "    return a * x + b"
   ]
  },
  {
   "cell_type": "code",
   "execution_count": 189,
   "metadata": {},
   "outputs": [],
   "source": [
    "# Rational function for approximation\n",
    "def rational(x, a, b):\n",
    "    return a / (1 + b * x)"
   ]
  },
  {
   "cell_type": "code",
   "execution_count": 323,
   "metadata": {},
   "outputs": [],
   "source": [
    "# Generate 100 points and values of function for them with noize\n",
    "X, Y = generate_data(100, alpha, beta)"
   ]
  },
  {
   "cell_type": "code",
   "execution_count": 372,
   "metadata": {},
   "outputs": [],
   "source": [
    "# The function for calculating the means least squares which we minimize with multi-dimensions direct methods\n",
    "def loss(x, function):\n",
    "    sum = 0\n",
    "    for i in range(100):\n",
    "        sum += (function(X[i], x[0], x[1]) - Y[i])**2\n",
    "    return sum"
   ]
  },
  {
   "cell_type": "code",
   "execution_count": 359,
   "metadata": {},
   "outputs": [],
   "source": [
    "# The same but for Gauss method\n",
    "def loss_for_gauss(x1, x2, function, direct_order=True):\n",
    "    if direct_order:\n",
    "        sum = 0\n",
    "        for i in range(100):\n",
    "            sum += (function(X[i], x1, x2) - Y[i])**2\n",
    "        return sum\n",
    "    else:\n",
    "        sum = 0\n",
    "        for i in range(100):\n",
    "            sum += (function(X[i], x2, x1) - Y[i])**2\n",
    "        return sum"
   ]
  },
  {
   "cell_type": "markdown",
   "metadata": {},
   "source": [
    "## Linear approximation"
   ]
  },
  {
   "cell_type": "code",
   "execution_count": 419,
   "metadata": {
    "scrolled": true
   },
   "outputs": [
    {
     "data": {
      "text/plain": [
       "(-0.28877241379038154, 0.648736129494992)"
      ]
     },
     "execution_count": 419,
     "metadata": {},
     "output_type": "execute_result"
    }
   ],
   "source": [
    "# Initial point for a,b which we define by minimizing the function of loss()\n",
    "x0 = (0,0)\n",
    "\n",
    "# Minimizing by Nelder-Mead method\n",
    "nelder_mead = minimize(loss, x0, method='Nelder-Mead', args=(linear), tol=eps)\n",
    "\n",
    "a_nelder_mead, b_nelder_mead = nelder_mead.x\n",
    "a_nelder_mead, b_nelder_mead"
   ]
  },
  {
   "cell_type": "code",
   "execution_count": 420,
   "metadata": {},
   "outputs": [
    {
     "data": {
      "text/plain": [
       " final_simplex: (array([[-0.28877241,  0.64873613],\n",
       "       [-0.28810285,  0.64833478],\n",
       "       [-0.28807326,  0.64850374]]), array([134.31548943, 134.31549189, 134.31549253]))\n",
       "           fun: 134.31548942876856\n",
       "       message: 'Optimization terminated successfully.'\n",
       "          nfev: 101\n",
       "           nit: 53\n",
       "        status: 0\n",
       "       success: True\n",
       "             x: array([-0.28877241,  0.64873613])"
      ]
     },
     "execution_count": 420,
     "metadata": {},
     "output_type": "execute_result"
    }
   ],
   "source": [
    "nelder_mead"
   ]
  },
  {
   "cell_type": "code",
   "execution_count": 374,
   "metadata": {},
   "outputs": [
    {
     "data": {
      "text/plain": [
       "(-0.2885977931265784, 0.6486399310165128)"
      ]
     },
     "execution_count": 374,
     "metadata": {},
     "output_type": "execute_result"
    }
   ],
   "source": [
    "# Minimizing by Brute-Force method\n",
    "brute_force = brute(loss, ranges=(slice(0,1,eps), slice(0,1,eps)), args=(linear, ))\n",
    "\n",
    "a_brute_force, b_brute_force = brute_force\n",
    "a_brute_force, b_brute_force"
   ]
  },
  {
   "cell_type": "code",
   "execution_count": 425,
   "metadata": {},
   "outputs": [],
   "source": [
    "# The implemetation of Gauss method \n",
    "def gauss_method(function, approx_function, x0):\n",
    "    x1, x2 = x0\n",
    "    # Lists for saving last two results of x1/x2 to define if we can stop calculations \n",
    "    latest_x1 = [x1, x1]\n",
    "    latest_x2 = [x2, x2]\n",
    "    nit = 0\n",
    "    nfev = 0\n",
    "    condition1 = condition2 = True\n",
    "    while condition1 and condition2:\n",
    "        if condition1:\n",
    "            # Find not fixed variable by minimizing with Nelder-Mead method\n",
    "            x1_min = minimize(function, x1, method='Nelder-Mead', args=(x2, approx_function))\n",
    "            nit += x1_min.nit\n",
    "            nfev += x1_min.nfev\n",
    "            x1 = x1_min.x[0]\n",
    "            latest_x1[0], latest_x1[1] = latest_x1[1], x1\n",
    "\n",
    "        if condition2:\n",
    "            x2_min = minimize(function, x2, method='Nelder-Mead', args=(x1, approx_function, False))\n",
    "            nit += x2_min.nit\n",
    "            nfev += x2_min.nfev\n",
    "            x2 = x2_min.x[0]\n",
    "            latest_x2[0], latest_x2[1] = latest_x2[1], x2\n",
    "        \n",
    "        # Condition if we find the x1\n",
    "        condition1 = abs(latest_x1[1] - latest_x1[0]) >= eps\n",
    "        # Condition if we find the x2\n",
    "        condition2 = abs(latest_x2[1] - latest_x2[0]) >= eps\n",
    "    \n",
    "    if loss_for_gauss(latest_x1[0], latest_x2[0], approx_function) < loss_for_gauss(latest_x1[1], latest_x2[1], approx_function):\n",
    "        return latest_x1[0], latest_x2[0]\n",
    "    else:\n",
    "        return latest_x1[1], latest_x2[1], nit, nfev"
   ]
  },
  {
   "cell_type": "code",
   "execution_count": 428,
   "metadata": {},
   "outputs": [
    {
     "data": {
      "text/plain": [
       "(-0.28358545079243214, 0.6462006129735953, 422, 844)"
      ]
     },
     "execution_count": 428,
     "metadata": {},
     "output_type": "execute_result"
    }
   ],
   "source": [
    "# Minimizing by Gauss method\n",
    "a_gauss, b_gauss, nit, nfev = gauss_method(loss_for_gauss, linear, x0)\n",
    "a_gauss, b_gauss, nit, nfev"
   ]
  },
  {
   "cell_type": "code",
   "execution_count": 354,
   "metadata": {
    "scrolled": false
   },
   "outputs": [
    {
     "data": {
      "text/plain": [
       "<matplotlib.legend.Legend at 0x12de14750>"
      ]
     },
     "execution_count": 354,
     "metadata": {},
     "output_type": "execute_result"
    },
    {
     "data": {
      "image/png": "[encoded data removed]",
      "text/plain": [
       "<Figure size 1008x504 with 1 Axes>"
      ]
     },
     "metadata": {
      "needs_background": "light"
     },
     "output_type": "display_data"
    }
   ],
   "source": [
    "# Show the results of approximation\n",
    "plt.figure(figsize=(14, 7))\n",
    "plt.plot(X, Y, '+', label='data')\n",
    "\n",
    "Y_nelder_mead = [linear(x, a_nelder_mead, b_nelder_mead) for x in X]\n",
    "plt.plot(X, Y_nelder_mead, label='Nelder-Mead')\n",
    "\n",
    "Y_brute_force = [linear(x, a_brute_force, b_brute_force) for x in X]\n",
    "plt.plot(X, Y_brute_force, label='Brute Force')\n",
    "\n",
    "Y_gauss = [linear(x, a_gauss, b_gauss) for x in X]\n",
    "plt.plot(X, Y_gauss, label='Gauss method')\n",
    "\n",
    "plt.legend()"
   ]
  },
  {
   "cell_type": "markdown",
   "metadata": {},
   "source": [
    "## Rational approximation"
   ]
  },
  {
   "cell_type": "code",
   "execution_count": 434,
   "metadata": {},
   "outputs": [
    {
     "data": {
      "text/plain": [
       "(0.648917780504138, 0.6161279427617552)"
      ]
     },
     "execution_count": 434,
     "metadata": {},
     "output_type": "execute_result"
    }
   ],
   "source": [
    "x0 = (0,0)\n",
    "nelder_mead = minimize(loss, x0, method='Nelder-Mead', args=(rational), tol=eps)\n",
    "\n",
    "a_nelder_mead, b_nelder_mead = nelder_mead.x\n",
    "a_nelder_mead, b_nelder_mead"
   ]
  },
  {
   "cell_type": "code",
   "execution_count": 435,
   "metadata": {},
   "outputs": [
    {
     "data": {
      "text/plain": [
       " final_simplex: (array([[0.64891778, 0.61612794],\n",
       "       [0.64878717, 0.61647045],\n",
       "       [0.64851403, 0.61527265]]), array([134.41606173, 134.41606184, 134.41606223]))\n",
       "           fun: 134.41606172757037\n",
       "       message: 'Optimization terminated successfully.'\n",
       "          nfev: 117\n",
       "           nit: 63\n",
       "        status: 0\n",
       "       success: True\n",
       "             x: array([0.64891778, 0.61612794])"
      ]
     },
     "execution_count": 435,
     "metadata": {},
     "output_type": "execute_result"
    }
   ],
   "source": [
    "nelder_mead"
   ]
  },
  {
   "cell_type": "code",
   "execution_count": 375,
   "metadata": {},
   "outputs": [
    {
     "data": {
      "text/plain": [
       "(0.6487591738080198, 0.615864336934485)"
      ]
     },
     "execution_count": 375,
     "metadata": {},
     "output_type": "execute_result"
    }
   ],
   "source": [
    "brute_force = brute(loss, ranges=(slice(0,1,eps), slice(0,1,eps)), args=(rational, ))\n",
    "\n",
    "a_brute_force, b_brute_force = brute_force\n",
    "a_brute_force, b_brute_force"
   ]
  },
  {
   "cell_type": "code",
   "execution_count": 437,
   "metadata": {},
   "outputs": [
    {
     "data": {
      "text/plain": [
       "(0.6468988335212928, 0.6092126937862024, 309, 618)"
      ]
     },
     "execution_count": 437,
     "metadata": {},
     "output_type": "execute_result"
    }
   ],
   "source": [
    "a_gauss, b_gauss, nit, nfev  = gauss_method(loss_for_gauss, rational, x0)\n",
    "a_gauss, b_gauss, nit, nfev"
   ]
  },
  {
   "cell_type": "code",
   "execution_count": 385,
   "metadata": {},
   "outputs": [
    {
     "data": {
      "text/plain": [
       "<matplotlib.legend.Legend at 0x12eb87150>"
      ]
     },
     "execution_count": 385,
     "metadata": {},
     "output_type": "execute_result"
    },
    {
     "data": {
      "image/png": "[encoded data removed]",
      "text/plain": [
       "<Figure size 1008x504 with 1 Axes>"
      ]
     },
     "metadata": {
      "needs_background": "light"
     },
     "output_type": "display_data"
    }
   ],
   "source": [
    "plt.figure(figsize=(14, 7))\n",
    "plt.plot(X, Y, '+', label='data')\n",
    "\n",
    "Y_nelder_mead = [rational(x, a_nelder_mead, b_nelder_mead) for x in X]\n",
    "plt.plot(X, Y_nelder_mead, label='Nelder-Mead')\n",
    "\n",
    "Y_brute_force = [rational(x, a_brute_force, b_brute_force) for x in X]\n",
    "plt.plot(X, Y_brute_force, label='Brute Force')\n",
    "\n",
    "Y_gauss = [rational(x, a_gauss, b_gauss) for x in X]\n",
    "plt.plot(X, Y_gauss, label='Gauss method')\n",
    "\n",
    "plt.legend()"
   ]
  }
 ],
 "metadata": {
  "kernelspec": {
   "display_name": "Python 3",
   "language": "python",
   "name": "python3"
  },
  "language_info": {
   "codemirror_mode": {
    "name": "ipython",
    "version": 3
   },
   "file_extension": ".py",
   "mimetype": "text/x-python",
   "name": "python",
   "nbconvert_exporter": "python",
   "pygments_lexer": "ipython3",
   "version": "3.7.5"
  }
 },
 "nbformat": 4,
 "nbformat_minor": 2
}
