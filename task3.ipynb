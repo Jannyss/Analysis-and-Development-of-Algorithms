{
 "cells": [
  {
   "cell_type": "code",
   "execution_count": 5,
   "metadata": {
    "pycharm": {
     "is_executing": false
    }
   },
   "outputs": [],
   "source": [
    "import time\n",
    "import numpy as np\n",
    "import datetime\n",
    "import random\n",
    "import matplotlib.pyplot as plt\n",
    "import statistics\n",
    "from scipy.optimize import *\n",
    "from autograd import grad, jacobian, hessian\n",
    "from sklearn.linear_model import SGDRegressor"
   ]
  },
  {
   "cell_type": "code",
   "execution_count": 6,
   "metadata": {
    "pycharm": {
     "is_executing": false
    }
   },
   "outputs": [],
   "source": [
    "global eps\n",
    "eps = 0.001"
   ]
  },
  {
   "cell_type": "code",
   "execution_count": 7,
   "metadata": {
    "pycharm": {
     "is_executing": false
    }
   },
   "outputs": [],
   "source": [
    "# Generate alpha and beta numbers in range (0,1)\n",
    "alpha = random.uniform(0.0000000000000000001,0.9999999999999999999)\n",
    "beta = random.uniform(0.0000000000000000001,0.9999999999999999999)"
   ]
  },
  {
   "cell_type": "code",
   "execution_count": 8,
   "metadata": {
    "pycharm": {
     "is_executing": false
    }
   },
   "outputs": [],
   "source": [
    "# The function ot generate our data to approximate (X, Y) with some noize \n",
    "def generate_data(k, alpha, beta):\n",
    "    X = [x/100 for x in range(0,k)]\n",
    "    noizes = np.random.normal(0,1,100)\n",
    "    Y = [alpha * x + beta + noize for x, noize in zip(X, noizes)]\n",
    "    return X, Y"
   ]
  },
  {
   "cell_type": "code",
   "execution_count": 13,
   "metadata": {
    "pycharm": {
     "is_executing": false
    }
   },
   "outputs": [],
   "source": [
    "# The function for calculating the means least squares\n",
    "def loss(x, function=linear):\n",
    "    sum = 0\n",
    "    for i in range(100):\n",
    "        sum += (function(X[i], x[0], x[1]) - Y[i])**2\n",
    "    return sum"
   ]
  },
  {
   "cell_type": "code",
   "execution_count": 10,
   "metadata": {
    "pycharm": {
     "is_executing": false
    }
   },
   "outputs": [],
   "source": [
    "# Initial point for a,b which we define by minimizing the function of loss()\n",
    "x0 = (0,0)"
   ]
  },
  {
   "cell_type": "code",
   "execution_count": 11,
   "metadata": {
    "pycharm": {
     "is_executing": false
    }
   },
   "outputs": [],
   "source": [
    "# Generate 100 points and values of function for them with noize\n",
    "X, Y = generate_data(100, alpha, beta)"
   ]
  },
  {
   "cell_type": "markdown",
   "metadata": {},
   "source": [
    "## Linear approximation"
   ]
  },
  {
   "cell_type": "code",
   "execution_count": 12,
   "metadata": {
    "pycharm": {
     "is_executing": false
    }
   },
   "outputs": [],
   "source": [
    "# Linear function for approximation\n",
    "def linear(x, a, b):\n",
    "    return a * x + b"
   ]
  },
  {
   "cell_type": "markdown",
   "metadata": {},
   "source": [
    "#### Gradient Descent"
   ]
  },
  {
   "cell_type": "code",
   "execution_count": 21,
   "metadata": {},
   "outputs": [
    {
     "data": {
      "text/plain": [
       "      fun: 95.9949610958696\n",
       " hess_inv: array([[ 0.06000597, -0.02970296],\n",
       "       [-0.02970296,  0.01970296]])\n",
       "      jac: array([1.14440918e-05, 1.52587891e-05])\n",
       "  message: 'Optimization terminated successfully.'\n",
       "     nfev: 24\n",
       "      nit: 4\n",
       "     njev: 6\n",
       "   status: 0\n",
       "  success: True\n",
       "        x: array([-0.12363801,  0.72274574])"
      ]
     },
     "execution_count": 21,
     "metadata": {},
     "output_type": "execute_result"
    }
   ],
   "source": [
    "bfgs = minimize(loss, x0, method='BFGS', args=(linear), tol=eps)\n",
    "\n",
    "a_bfgs, b_bfgs = bfgs.x\n",
    "bfgs"
   ]
  },
  {
   "cell_type": "markdown",
   "metadata": {},
   "source": [
    "#### Conjugate Gradient Descent"
   ]
  },
  {
   "cell_type": "code",
   "execution_count": 22,
   "metadata": {
    "pycharm": {
     "is_executing": false
    }
   },
   "outputs": [
    {
     "data": {
      "text/plain": [
       "     fun: 95.99496109586865\n",
       "     jac: array([ 9.53674316e-07, -9.53674316e-07])\n",
       " message: 'Optimization terminated successfully.'\n",
       "    nfev: 20\n",
       "     nit: 2\n",
       "    njev: 5\n",
       "  status: 0\n",
       " success: True\n",
       "       x: array([-0.12363815,  0.72274572])"
      ]
     },
     "execution_count": 22,
     "metadata": {},
     "output_type": "execute_result"
    }
   ],
   "source": [
    "conjugate_gradient = minimize(loss, x0, method='CG', args=(linear), tol=eps)\n",
    "\n",
    "a_conjugate_gradient, b_conjugate_gradient = conjugate_gradient.x\n",
    "conjugate_gradient"
   ]
  },
  {
   "cell_type": "markdown",
   "metadata": {},
   "source": [
    "#### Newton’s method "
   ]
  },
  {
   "cell_type": "code",
   "execution_count": 23,
   "metadata": {
    "pycharm": {
     "is_executing": false
    }
   },
   "outputs": [
    {
     "name": "stdout",
     "output_type": "stream",
     "text": [
      "Warning: Desired error not necessarily achieved due to precision loss.\n",
      "         Current function value: 95.994961\n",
      "         Iterations: 2\n",
      "         Function evaluations: 59\n",
      "         Gradient evaluations: 67\n",
      "         Hessian evaluations: 0\n"
     ]
    },
    {
     "data": {
      "text/plain": [
       "     fun: 95.99496109586846\n",
       "     jac: array([-2.23803109e-09, -5.83870197e-08])\n",
       " message: 'Warning: Desired error not necessarily achieved due to precision loss.'\n",
       "    nfev: 59\n",
       "    nhev: 0\n",
       "     nit: 2\n",
       "    njev: 67\n",
       "  status: 2\n",
       " success: False\n",
       "       x: array([-0.12363828,  0.72274581])"
      ]
     },
     "execution_count": 23,
     "metadata": {},
     "output_type": "execute_result"
    }
   ],
   "source": [
    "newton = minimize(loss, x0, method='Newton-CG', jac=jacobian(loss), options={'disp': True})\n",
    "\n",
    "a_newton, b_newton = newton.x\n",
    "newton"
   ]
  },
  {
   "cell_type": "markdown",
   "metadata": {},
   "source": [
    "#### Levenberg-Marquardt"
   ]
  },
  {
   "cell_type": "code",
   "execution_count": 24,
   "metadata": {
    "pycharm": {
     "is_executing": false
    }
   },
   "outputs": [],
   "source": [
    "popt, pcov, infodict, errmsg, ier = curve_fit(linear, X, Y, method='lm', full_output=True)"
   ]
  },
  {
   "cell_type": "code",
   "execution_count": 25,
   "metadata": {
    "pycharm": {
     "is_executing": false
    },
    "scrolled": false
   },
   "outputs": [
    {
     "data": {
      "text/plain": [
       "(array([-0.12363828,  0.7227458 ]),\n",
       " {'fvec': array([-0.79113273, -2.2578441 ,  0.65158942, -0.06527337, -1.8338753 ,\n",
       "          0.4917348 ,  0.18028101, -0.30168805, -1.09382988,  1.74150008,\n",
       "          0.162685  , -0.77297249,  1.57371066, -1.44204894,  0.0743187 ,\n",
       "          0.5778755 ,  0.66600472, -0.9809097 , -1.11005204,  1.03865334,\n",
       "          0.5986306 ,  0.10016344, -0.31435577,  1.29045997, -1.22124471,\n",
       "          1.04713853, -0.44092801,  0.06027989, -0.02795601, -0.72682812,\n",
       "          2.39853203,  0.31676995, -0.50320592, -1.038322  , -0.93711096,\n",
       "          0.7561139 ,  0.92360467,  0.3384052 ,  0.4056015 ,  0.79443561,\n",
       "          0.63306267, -1.26719197,  0.40002905,  0.13787714,  1.14359736,\n",
       "         -0.10075379, -1.10296025, -0.15007398, -0.82085883,  0.40112646,\n",
       "         -0.6794097 ,  1.51534378, -1.22291801,  0.55260929,  0.23239943,\n",
       "          0.17036071,  0.81198975,  2.37853366,  1.09733622, -1.85570589,\n",
       "         -1.20578007,  2.35269701,  1.00203169, -0.29991557, -0.51520643,\n",
       "         -0.32047849,  0.065908  , -0.07909413, -2.0490719 , -1.30300329,\n",
       "          0.04707498,  0.80576565,  0.17127833,  0.62765149,  1.06406068,\n",
       "         -0.79071999,  1.0296552 ,  0.99073079,  0.89942463,  0.28080385,\n",
       "         -1.06232981, -0.21337475, -0.33983384,  0.29136657, -0.99265113,\n",
       "         -1.11205278, -1.99502448,  1.10036322, -0.06112705, -0.09376348,\n",
       "          0.80397242, -0.22208467,  0.42605763, -0.67157504,  0.10078797,\n",
       "         -1.30540605, -0.6905317 ,  0.74700554,  1.10073661, -1.18765114]),\n",
       "  'nfev': 7,\n",
       "  'fjac': array([[-1.00000000e+01,  1.00000000e-01,  1.00000000e-01,\n",
       "           1.00000000e-01,  1.00000000e-01,  1.00000000e-01,\n",
       "           1.00000000e-01,  1.00000000e-01,  1.00000000e-01,\n",
       "           1.00000000e-01,  1.00000000e-01,  1.00000000e-01,\n",
       "           1.00000000e-01,  1.00000000e-01,  1.00000000e-01,\n",
       "           1.00000000e-01,  1.00000000e-01,  1.00000000e-01,\n",
       "           1.00000000e-01,  1.00000000e-01,  1.00000000e-01,\n",
       "           1.00000000e-01,  1.00000000e-01,  1.00000000e-01,\n",
       "           1.00000000e-01,  1.00000000e-01,  1.00000000e-01,\n",
       "           1.00000000e-01,  1.00000000e-01,  1.00000000e-01,\n",
       "           1.00000000e-01,  1.00000000e-01,  1.00000000e-01,\n",
       "           1.00000000e-01,  1.00000000e-01,  1.00000000e-01,\n",
       "           1.00000000e-01,  1.00000000e-01,  1.00000000e-01,\n",
       "           1.00000000e-01,  1.00000000e-01,  1.00000000e-01,\n",
       "           1.00000000e-01,  1.00000000e-01,  1.00000000e-01,\n",
       "           1.00000000e-01,  1.00000000e-01,  1.00000000e-01,\n",
       "           1.00000000e-01,  1.00000000e-01,  1.00000000e-01,\n",
       "           1.00000000e-01,  1.00000000e-01,  1.00000000e-01,\n",
       "           1.00000000e-01,  1.00000000e-01,  1.00000000e-01,\n",
       "           1.00000000e-01,  1.00000000e-01,  1.00000000e-01,\n",
       "           1.00000000e-01,  9.99999959e-02,  1.00000000e-01,\n",
       "           1.00000000e-01,  1.00000000e-01,  1.00000000e-01,\n",
       "           1.00000000e-01,  1.00000000e-01,  1.00000004e-01,\n",
       "           1.00000000e-01,  1.00000000e-01,  1.00000000e-01,\n",
       "           1.00000000e-01,  1.00000000e-01,  1.00000000e-01,\n",
       "           1.00000000e-01,  1.00000000e-01,  1.00000000e-01,\n",
       "           1.00000000e-01,  1.00000000e-01,  1.00000000e-01,\n",
       "           1.00000000e-01,  1.00000000e-01,  1.00000000e-01,\n",
       "           1.00000000e-01,  1.00000000e-01,  1.00000000e-01,\n",
       "           1.00000000e-01,  1.00000000e-01,  1.00000000e-01,\n",
       "           1.00000000e-01,  1.00000000e-01,  1.00000000e-01,\n",
       "           1.00000000e-01,  1.00000000e-01,  1.00000000e-01,\n",
       "           1.00000000e-01,  1.00000000e-01,  1.00000000e-01,\n",
       "           1.00000000e-01],\n",
       "         [-4.95000002e+00,  2.88660698e+00,  1.48963819e-01,\n",
       "           1.45499534e-01,  1.42035269e-01,  1.38570983e-01,\n",
       "           1.35106739e-01,  1.31642454e-01,  1.28178168e-01,\n",
       "           1.24713904e-01,  1.21249618e-01,  1.17785353e-01,\n",
       "           1.14321068e-01,  1.10856761e-01,  1.07392517e-01,\n",
       "           1.03928232e-01,  1.00463988e-01,  9.69997024e-02,\n",
       "           9.35354377e-02,  9.00711730e-02,  8.66068666e-02,\n",
       "           8.31426019e-02,  7.96783163e-02,  7.62140307e-02,\n",
       "           7.27497660e-02,  6.92855013e-02,  6.58212157e-02,\n",
       "           6.23569510e-02,  5.88926863e-02,  5.54284007e-02,\n",
       "           5.19640943e-02,  4.84998505e-02,  4.50355649e-02,\n",
       "           4.15713002e-02,  3.81070146e-02,  3.46427499e-02,\n",
       "           3.11784643e-02,  2.77141996e-02,  2.42499349e-02,\n",
       "           2.07856493e-02,  1.73213846e-02,  1.38570991e-02,\n",
       "           1.03928344e-02,  6.92854877e-03,  3.46422144e-03,\n",
       "          -1.50917178e-09, -3.46430796e-03, -6.92855179e-03,\n",
       "          -1.03928374e-02, -1.38570812e-02, -1.73213668e-02,\n",
       "          -2.07856732e-02, -2.42498962e-02, -2.77142026e-02,\n",
       "          -3.11784673e-02, -3.46427529e-02, -3.81070176e-02,\n",
       "          -4.15713032e-02, -4.50355679e-02, -4.84998744e-02,\n",
       "          -5.19641391e-02, -5.54283684e-02, -5.88926685e-02,\n",
       "          -6.23569540e-02, -6.58212188e-02, -6.92855043e-02,\n",
       "          -7.27497690e-02, -7.62140546e-02, -7.96783755e-02,\n",
       "          -8.31425631e-02, -8.66068696e-02, -9.00711343e-02,\n",
       "          -9.35354199e-02, -9.69996846e-02, -1.00463970e-01,\n",
       "          -1.03928235e-01, -1.07392500e-01, -1.10856806e-01,\n",
       "          -1.14321071e-01, -1.17785356e-01, -1.21249600e-01,\n",
       "          -1.24713886e-01, -1.28178171e-01, -1.31642436e-01,\n",
       "          -1.35106722e-01, -1.38571007e-01, -1.42035272e-01,\n",
       "          -1.45499537e-01, -1.48963822e-01, -1.52428108e-01,\n",
       "          -1.55892372e-01, -1.59356637e-01, -1.62820902e-01,\n",
       "          -1.66285187e-01, -1.69749452e-01, -1.73213738e-01,\n",
       "          -1.76678023e-01, -1.80142288e-01, -1.83606574e-01,\n",
       "          -1.87070838e-01]]),\n",
       "  'ipvt': array([2, 1], dtype=int32),\n",
       "  'qtf': array([ 2.31918683e-08, -9.64261333e-08])})"
      ]
     },
     "execution_count": 25,
     "metadata": {},
     "output_type": "execute_result"
    }
   ],
   "source": [
    "popt, infodict"
   ]
  },
  {
   "cell_type": "code",
   "execution_count": 27,
   "metadata": {},
   "outputs": [
    {
     "data": {
      "text/plain": [
       "100"
      ]
     },
     "execution_count": 27,
     "metadata": {},
     "output_type": "execute_result"
    }
   ],
   "source": [
    "len(infodict['fvec'])"
   ]
  },
  {
   "cell_type": "code",
   "execution_count": 28,
   "metadata": {
    "pycharm": {
     "is_executing": false
    }
   },
   "outputs": [],
   "source": [
    "a_lm, b_lm = popt"
   ]
  },
  {
   "cell_type": "code",
   "execution_count": 30,
   "metadata": {
    "pycharm": {
     "is_executing": false
    }
   },
   "outputs": [
    {
     "data": {
      "text/plain": [
       "<matplotlib.legend.Legend at 0x12ccd0f10>"
      ]
     },
     "execution_count": 30,
     "metadata": {},
     "output_type": "execute_result"
    },
    {
     "data": {
      "image/png": "[encoded data removed]",
      "text/plain": [
       "<Figure size 1008x504 with 1 Axes>"
      ]
     },
     "metadata": {
      "needs_background": "light"
     },
     "output_type": "display_data"
    }
   ],
   "source": [
    "plt.figure(figsize=(14, 7))\n",
    "plt.plot(X, Y, '+', label='data')\n",
    "\n",
    "Y_bfgs = [linear(x, a_bfgs, b_bfgs) for x in X]\n",
    "plt.plot(X, Y_bfgs, label='Gradient')\n",
    "\n",
    "Y_conjugate_gradient = [linear(x, a_conjugate_gradient, b_conjugate_gradient) for x in X]\n",
    "plt.plot(X, Y_conjugate_gradient, label='Conjugate Gradient')\n",
    "\n",
    "Y_newton = [linear(x, a_newton, b_newton) for x in X]\n",
    "plt.plot(X, Y_newton, label='Newton')\n",
    "\n",
    "Y_lm = [linear(x, a_lm, b_lm) for x in X]\n",
    "plt.plot(X, Y_lm, label='Levenberg-Marquardt')\n",
    "\n",
    "plt.legend()"
   ]
  },
  {
   "cell_type": "markdown",
   "metadata": {},
   "source": [
    "## Rational approximation"
   ]
  },
  {
   "cell_type": "code",
   "execution_count": 31,
   "metadata": {
    "pycharm": {
     "is_executing": false
    }
   },
   "outputs": [],
   "source": [
    "# Rational function for approximation\n",
    "def rational(x, a, b):\n",
    "    return a / (1 + b * x)"
   ]
  },
  {
   "cell_type": "markdown",
   "metadata": {},
   "source": [
    "#### Gradient Descent"
   ]
  },
  {
   "cell_type": "code",
   "execution_count": 32,
   "metadata": {
    "pycharm": {
     "is_executing": false
    }
   },
   "outputs": [
    {
     "data": {
      "text/plain": [
       "      fun: 95.89586774775837\n",
       " hess_inv: array([[0.04105887, 0.12332669],\n",
       "       [0.12332669, 0.44416408]])\n",
       "      jac: array([ 2.19345093e-05, -3.62396240e-04])\n",
       "  message: 'Optimization terminated successfully.'\n",
       "     nfev: 52\n",
       "      nit: 11\n",
       "     njev: 13\n",
       "   status: 0\n",
       "  success: True\n",
       "        x: array([0.78276231, 0.39759266])"
      ]
     },
     "execution_count": 32,
     "metadata": {},
     "output_type": "execute_result"
    }
   ],
   "source": [
    "bfgs = minimize(loss, x0, method='BFGS', args=(rational), tol=eps)\n",
    "\n",
    "a_bfgs, b_bfgs = bfgs.x\n",
    "bfgs"
   ]
  },
  {
   "cell_type": "markdown",
   "metadata": {},
   "source": [
    "#### Conjugate Gradient Descent"
   ]
  },
  {
   "cell_type": "code",
   "execution_count": 33,
   "metadata": {
    "pycharm": {
     "is_executing": false
    }
   },
   "outputs": [
    {
     "data": {
      "text/plain": [
       "     fun: 95.89586774354507\n",
       "     jac: array([-0.0001688 , -0.00028419])\n",
       " message: 'Optimization terminated successfully.'\n",
       "    nfev: 66\n",
       "     nit: 7\n",
       "    njev: 16\n",
       "  status: 0\n",
       " success: True\n",
       "       x: array([0.78276448, 0.39760525])"
      ]
     },
     "execution_count": 33,
     "metadata": {},
     "output_type": "execute_result"
    }
   ],
   "source": [
    "conjugate_gradient = minimize(loss, x0, method='CG', args=(rational), tol=eps)\n",
    "\n",
    "a_conjugate_gradient, b_conjugate_gradient = conjugate_gradient.x\n",
    "conjugate_gradient"
   ]
  },
  {
   "cell_type": "markdown",
   "metadata": {},
   "source": [
    "#### Newton’s method "
   ]
  },
  {
   "cell_type": "code",
   "execution_count": 34,
   "metadata": {
    "pycharm": {
     "is_executing": false
    }
   },
   "outputs": [
    {
     "name": "stdout",
     "output_type": "stream",
     "text": [
      "Optimization terminated successfully.\n",
      "         Current function value: 95.895868\n",
      "         Iterations: 11\n",
      "         Function evaluations: 12\n",
      "         Gradient evaluations: 60\n",
      "         Hessian evaluations: 0\n"
     ]
    },
    {
     "data": {
      "text/plain": [
       "     fun: 95.89586771673724\n",
       "     jac: array([ 3.08702672e-05, -1.72894257e-05])\n",
       " message: 'Optimization terminated successfully.'\n",
       "    nfev: 12\n",
       "    nhev: 0\n",
       "     nit: 11\n",
       "    njev: 60\n",
       "  status: 0\n",
       " success: True\n",
       "       x: array([0.78281055, 0.39776736])"
      ]
     },
     "execution_count": 34,
     "metadata": {},
     "output_type": "execute_result"
    }
   ],
   "source": [
    "newton = minimize(loss, x0, method='Newton-CG', jac=jacobian(loss), args=(rational), options={'disp': True})\n",
    "\n",
    "a_newton, b_newton = newton.x\n",
    "newton"
   ]
  },
  {
   "cell_type": "markdown",
   "metadata": {},
   "source": [
    "#### Levenberg-Marquardt"
   ]
  },
  {
   "cell_type": "code",
   "execution_count": 35,
   "metadata": {
    "pycharm": {
     "is_executing": false
    }
   },
   "outputs": [],
   "source": [
    "popt, pcov, infodict, errmsg, ier = curve_fit(rational, X, Y, method='lm', full_output=True)"
   ]
  },
  {
   "cell_type": "code",
   "execution_count": 36,
   "metadata": {
    "pycharm": {
     "is_executing": false
    },
    "scrolled": true
   },
   "outputs": [
    {
     "data": {
      "text/plain": [
       "(array([0.78293983, 0.39823397]),\n",
       " {'fvec': array([-0.7309387 , -2.19951925,  0.70806962, -0.01061357, -1.78101192,\n",
       "          0.54282544,  0.22962231, -0.25407295, -1.04791811,  1.78573111,\n",
       "          0.20525764, -0.73203615,  1.61303254, -1.40431993,  0.11047618,\n",
       "          0.61248255,  0.69908222, -0.94934114, -1.079972  ,  1.06726504,\n",
       "          0.6257939 ,  0.12589808, -0.29003027,  1.31339562, -1.1996798 ,\n",
       "          1.06735157, -0.42204815,  0.07784505, -0.01168728, -0.71183774,\n",
       "          2.41226197,  0.32925714, -0.49194396, -1.02826795, -0.92824767,\n",
       "          0.7638034 ,  0.93013717,  0.34379731,  0.40986966,  0.79759609,\n",
       "          0.63513159, -1.26619869,  0.39996247,  0.13676633,  1.14145777,\n",
       "         -0.10390688, -1.10711167, -0.15520875, -0.82696211,  0.39406937,\n",
       "         -0.68740605,  1.50642257, -1.23274983,  0.541881  ,  0.22078864,\n",
       "          0.15788127,  0.79865536,  2.36435789,  1.08233253, -1.8715242 ,\n",
       "         -1.22239981,  2.33528891,  0.98384815, -0.31886174, -0.53490254,\n",
       "         -0.34091197,  0.04474959, -0.10096513, -2.07164328, -1.32626295,\n",
       "          0.02313903,  0.78116529,  0.14602533,  0.60175749,  1.03753724,\n",
       "         -0.81786143,  1.0019071 ,  0.96238726,  0.87049681,  0.25130276,\n",
       "         -1.09239323, -0.24398967, -0.37098953,  0.25968075, -1.02485654,\n",
       "         -1.14476732, -2.0282378 ,  1.06666138, -0.09530723, -0.12841192,\n",
       "          0.76886571, -0.25763974,  0.39006403, -0.70799744,  0.06394641,\n",
       "         -1.3426572 , -0.72818295,  0.70896358,  1.06231328, -1.22644661]),\n",
       "  'nfev': 28,\n",
       "  'fjac': array([[-8.46970660e+00,  1.17598891e-01,  1.17133643e-01,\n",
       "           1.16672063e-01,  1.16214106e-01,  1.15759732e-01,\n",
       "           1.15308897e-01,  1.14861559e-01,  1.14417677e-01,\n",
       "           1.13977217e-01,  1.13540133e-01,  1.13106388e-01,\n",
       "           1.12675943e-01,  1.12248765e-01,  1.11824812e-01,\n",
       "           1.11404050e-01,  1.10986441e-01,  1.10571952e-01,\n",
       "           1.10160547e-01,  1.09752196e-01,  1.09346857e-01,\n",
       "           1.08944501e-01,  1.08545097e-01,  1.08148608e-01,\n",
       "           1.07755009e-01,  1.07364263e-01,  1.06976339e-01,\n",
       "           1.06591210e-01,  1.06208842e-01,  1.05829211e-01,\n",
       "           1.05452280e-01,  1.05078028e-01,  1.04706422e-01,\n",
       "           1.04337434e-01,  1.03971038e-01,  1.03607208e-01,\n",
       "           1.03245913e-01,  1.02887131e-01,  1.02530833e-01,\n",
       "           1.02176994e-01,  1.01825588e-01,  1.01476594e-01,\n",
       "           1.01129981e-01,  1.00785729e-01,  1.00443813e-01,\n",
       "           1.00104207e-01,  9.97668927e-02,  9.94318429e-02,\n",
       "           9.90990353e-02,  9.87684484e-02,  9.84400600e-02,\n",
       "           9.81138486e-02,  9.77897883e-02,  9.74678670e-02,\n",
       "           9.71480563e-02,  9.68303373e-02,  9.65146898e-02,\n",
       "           9.62010934e-02,  9.58895292e-02,  9.55799735e-02,\n",
       "           9.52724128e-02,  9.49668248e-02,  9.46631902e-02,\n",
       "           9.43614911e-02,  9.40617084e-02,  9.37638264e-02,\n",
       "           9.34678238e-02,  9.31736836e-02,  9.28813947e-02,\n",
       "           9.25909245e-02,  9.23022708e-02,  9.20154087e-02,\n",
       "           9.17303272e-02,  9.14470036e-02,  9.11654257e-02,\n",
       "           9.08855789e-02,  9.06074418e-02,  9.03310044e-02,\n",
       "           9.00562485e-02,  8.97831574e-02,  8.95117166e-02,\n",
       "           8.92419158e-02,  8.89737348e-02,  8.87071591e-02,\n",
       "           8.84421763e-02,  8.81787740e-02,  8.79169376e-02,\n",
       "           8.76566470e-02,  8.73978953e-02,  8.71406669e-02,\n",
       "           8.68849471e-02,  8.66307248e-02,  8.63779841e-02,\n",
       "           8.61267161e-02,  8.58769050e-02,  8.56285386e-02,\n",
       "           8.53816056e-02,  8.51360902e-02,  8.48919846e-02,\n",
       "           8.46492742e-02],\n",
       "         [ 2.34578019e+00, -1.37340741e+00,  1.67713680e-01,\n",
       "           1.61529025e-01,  1.55436127e-01,  1.49433425e-01,\n",
       "           1.43519304e-01,  1.37692298e-01,  1.31950861e-01,\n",
       "           1.26293663e-01,  1.20719164e-01,  1.15225961e-01,\n",
       "           1.09812756e-01,  1.04478180e-01,  9.92209022e-02,\n",
       "           9.40396463e-02,  8.89331193e-02,  8.39001387e-02,\n",
       "           7.89394389e-02,  7.40499006e-02,  6.92302614e-02,\n",
       "           6.44794173e-02,  5.97962983e-02,  5.51797221e-02,\n",
       "           5.06286815e-02,  4.61420743e-02,  4.17188048e-02,\n",
       "           3.73579902e-02,  3.30585144e-02,  2.88195115e-02,\n",
       "           2.46398945e-02,  2.05188248e-02,  1.64553274e-02,\n",
       "           1.24484497e-02,  8.49739055e-03,  4.60122267e-03,\n",
       "           7.59114162e-04, -3.02978894e-03, -6.76633046e-03,\n",
       "          -1.04512981e-02, -1.40855339e-02, -1.76697660e-02,\n",
       "          -2.12047447e-02, -2.46913205e-02, -2.81301282e-02,\n",
       "          -3.15219706e-02, -3.48675418e-02, -3.81675223e-02,\n",
       "          -4.14226132e-02, -4.46334863e-02, -4.78008290e-02,\n",
       "          -5.09252316e-02, -5.40074546e-02, -5.70480202e-02,\n",
       "          -6.00475700e-02, -6.30067179e-02, -6.59260936e-02,\n",
       "          -6.88062176e-02, -7.16477720e-02, -7.44512147e-02,\n",
       "          -7.72171647e-02, -7.99461463e-02, -8.26386781e-02,\n",
       "          -8.52953592e-02, -8.79166267e-02, -9.05030488e-02,\n",
       "          -9.30551208e-02, -9.55733172e-02, -9.80581041e-02,\n",
       "          -1.00510035e-01, -1.02929507e-01, -1.05316994e-01,\n",
       "          -1.07672988e-01, -1.09997920e-01, -1.12292202e-01,\n",
       "          -1.14556264e-01, -1.16790588e-01, -1.18995517e-01,\n",
       "          -1.21171512e-01, -1.23318967e-01, -1.25438299e-01,\n",
       "          -1.27529836e-01, -1.29594017e-01, -1.31631232e-01,\n",
       "          -1.33641812e-01, -1.35626130e-01, -1.37584549e-01,\n",
       "          -1.39517452e-01, -1.41425164e-01, -1.43308034e-01,\n",
       "          -1.45166426e-01, -1.47000600e-01, -1.48810963e-01,\n",
       "          -1.50597799e-01, -1.52361419e-01, -1.54102141e-01,\n",
       "          -1.55820281e-01, -1.57516163e-01, -1.59190015e-01,\n",
       "          -1.60842215e-01]]),\n",
       "  'ipvt': array([1, 2], dtype=int32),\n",
       "  'qtf': array([-2.91928583e-07, -7.44938516e-04])})"
      ]
     },
     "execution_count": 36,
     "metadata": {},
     "output_type": "execute_result"
    }
   ],
   "source": [
    "popt, infodict"
   ]
  },
  {
   "cell_type": "code",
   "execution_count": 40,
   "metadata": {},
   "outputs": [
    {
     "data": {
      "text/plain": [
       "100"
      ]
     },
     "execution_count": 40,
     "metadata": {},
     "output_type": "execute_result"
    }
   ],
   "source": [
    "len(infodict['fvec'])"
   ]
  },
  {
   "cell_type": "code",
   "execution_count": 41,
   "metadata": {
    "pycharm": {
     "is_executing": false
    }
   },
   "outputs": [],
   "source": [
    "a_lm, b_lm = popt"
   ]
  },
  {
   "cell_type": "code",
   "execution_count": 42,
   "metadata": {
    "pycharm": {
     "is_executing": false
    }
   },
   "outputs": [
    {
     "data": {
      "text/plain": [
       "<matplotlib.legend.Legend at 0x12cc8be10>"
      ]
     },
     "execution_count": 42,
     "metadata": {},
     "output_type": "execute_result"
    },
    {
     "data": {
      "image/png": "[encoded data removed]",
      "text/plain": [
       "<Figure size 1008x504 with 1 Axes>"
      ]
     },
     "metadata": {
      "needs_background": "light"
     },
     "output_type": "display_data"
    }
   ],
   "source": [
    "plt.figure(figsize=(14, 7))\n",
    "plt.plot(X, Y, '+', label='data')\n",
    "\n",
    "Y_bfgs = [rational(x, a_bfgs, b_bfgs) for x in X]\n",
    "plt.plot(X, Y_bfgs, label='Gradient')\n",
    "\n",
    "Y_conjugate_gradient = [rational(x, a_conjugate_gradient, b_conjugate_gradient) for x in X]\n",
    "plt.plot(X, Y_conjugate_gradient, label='Conjugate Gradient')\n",
    "\n",
    "Y_newton = [rational(x, a_newton, b_newton) for x in X]\n",
    "plt.plot(X, Y_newton, label='Newton')\n",
    "\n",
    "\n",
    "Y_lm = [rational(x, a_lm, b_lm) for x in X]\n",
    "plt.plot(X, Y_lm, label='Levenberg-Marquardt')\n",
    "\n",
    "plt.legend()"
   ]
  }
 ],
 "metadata": {
  "kernelspec": {
   "display_name": "Python 3",
   "language": "python",
   "name": "python3"
  },
  "language_info": {
   "codemirror_mode": {
    "name": "ipython",
    "version": 3
   },
   "file_extension": ".py",
   "mimetype": "text/x-python",
   "name": "python",
   "nbconvert_exporter": "python",
   "pygments_lexer": "ipython3",
   "version": "3.7.5"
  }
 },
 "nbformat": 4,
 "nbformat_minor": 2
}
